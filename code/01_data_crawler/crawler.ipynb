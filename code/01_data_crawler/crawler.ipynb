{
 "cells": [
  {
   "cell_type": "code",
   "execution_count": 1,
   "id": "a5f6ac65",
   "metadata": {},
   "outputs": [],
   "source": [
    "import requests\n",
    "from bs4 import BeautifulSoup"
   ]
  },
  {
   "cell_type": "code",
   "execution_count": 2,
   "id": "35beac5b",
   "metadata": {},
   "outputs": [],
   "source": [
    "BASE_URL = \"https://www.imdb.com\""
   ]
  },
  {
   "cell_type": "code",
   "execution_count": 3,
   "id": "11d09432",
   "metadata": {},
   "outputs": [],
   "source": [
    "headers = {\"Accept-Language\": \"en-US,en;q=0.8\", \"User-Agent\": \"Mozilla/5.0\"}\n"
   ]
  },
  {
   "cell_type": "code",
   "execution_count": 24,
   "id": "68ec04a6",
   "metadata": {},
   "outputs": [],
   "source": [
    "url = f\"{BASE_URL}/chart/top/?ref_=nv_mv_250\"\n",
    "response = requests.get(url, headers=headers)\n",
    "soup = BeautifulSoup(response.text, \"html.parser\")\n",
    "rows = soup.select(\"li.ipc-metadata-list-summary-item\")\n",
    "data = []\n",
    "for row in rows:\n",
    "    title = row.select_one(\"h3.ipc-title__text\").get_text(strip=True).split(\". \")[-1]\n",
    "    link = row.select_one(\"a.ipc-title-link-wrapper\")[\"href\"].split(\"?\")[0]\n",
    "    url = BASE_URL + link\n",
    "    meta = row.select(\"span.dli-title-metadata-item\")\n",
    "    # year = meta[0].get_text(strip=True)\n",
    "    # runtime = meta[1].get_text(strip=True)\n",
    "    # rating = row.select_one(\"span.ipc-rating-star--rating\").get_text(strip=True)\n",
    "    data.append({\n",
    "        \"title\": title,\n",
    "        \"url\": url,\n",
    "        # \"year\": year,\n",
    "        # \"runtime\": runtime,\n",
    "        # \"rating\": rating\n",
    "    })"
   ]
  },
  {
   "cell_type": "code",
   "execution_count": 25,
   "id": "a93e56b4",
   "metadata": {},
   "outputs": [
    {
     "data": {
      "text/plain": [
       "25"
      ]
     },
     "execution_count": 25,
     "metadata": {},
     "output_type": "execute_result"
    }
   ],
   "source": [
    "len(data)"
   ]
  },
  {
   "cell_type": "code",
   "execution_count": 89,
   "id": "662b9f8b",
   "metadata": {},
   "outputs": [],
   "source": [
    "import json\n",
    "import requests\n",
    "from bs4 import BeautifulSoup\n",
    "\n",
    "\n",
    "BASE_URL = \"https://www.imdb.com\"\n",
    "HEADERS = {\n",
    "    'user-agent': 'Mozilla/5.0 (X11; Linux x86_64) Chrome/126.0.0.0 Safari/537.36',\n",
    "    'accept': 'text/html',\n",
    "}\n",
    "\n",
    "\n",
    "def get_movies_with_some_details() -> list:\n",
    "    url = f\"{BASE_URL}/chart/top/?ref_=nv_mv_250\"\n",
    "    response = requests.get(url, headers=HEADERS)\n",
    "    soup = BeautifulSoup(response.text, \"html.parser\")\n",
    "    script = soup.select_one(\"script[type='application/ld+json']\")\n",
    "    content = json.loads(script.text)\n",
    "    data = []\n",
    "    for entry in content[\"itemListElement\"]:\n",
    "        data.append({\n",
    "            \"title\": entry[\"item\"][\"name\"],\n",
    "            \"url\": entry[\"item\"][\"url\"],\n",
    "            \"duration\": entry[\"item\"][\"duration\"][2:],\n",
    "            \"rating\": entry[\"item\"][\"aggregateRating\"][\"ratingValue\"]\n",
    "        })\n",
    "    \n",
    "    return data\n",
    "\n",
    "def get_further_details(url: str) -> list:\n",
    "    response = requests.get(url, headers=HEADERS)\n",
    "    soup = BeautifulSoup(response.text, \"html.parser\")\n",
    "    script = soup.select_one(\"script[type='application/ld+json']\")\n",
    "    content = json.loads(script.text)\n",
    "    # Get information\n",
    "    genres = content[\"genre\"]\n",
    "    timestamp = content[\"datePublished\"] if \"datePublished\" in content else \"\"\n",
    "    directors = [v[\"name\"] for v in content[\"director\"] if v[\"@type\"] == \"Person\"]\n",
    "    stars = [v[\"name\"] for v in content[\"actor\"]]\n",
    "   \n",
    "    return genres, timestamp, directors, stars\n",
    "\n",
    "\n",
    "def get_synopsis(url: str) -> str:\n",
    "    response = requests.get(url + \"plotsummary/\", headers=HEADERS)\n",
    "    soup = BeautifulSoup(response.text, \"html.parser\")\n",
    "    synopsis = soup.select(\"div.ipc-html-content-inner-div\")[-1].get_text(strip=True)\n",
    "    \n",
    "    return synopsis\n",
    "\n",
    "\n",
    "data = get_movies_with_some_details()\n",
    "for index, movie in enumerate(data):\n",
    "    url = movie[\"url\"]\n",
    "    synopsis = get_synopsis(url=url)\n",
    "    genres, timestamp, directors, stars = get_further_details(url=url)\n",
    "    data[index][\"genres\"] = genres\n",
    "    data[index][\"date\"] = timestamp\n",
    "    data[index][\"directors\"] = directors\n",
    "    data[index][\"stars\"] = stars\n",
    "    data[index][\"synopsis\"] = synopsis\n",
    "\n",
    "with open(\"imdb_top250_movies.json\", \"w\") as f:\n",
    "    json.dump(data, f)\n"
   ]
  },
  {
   "cell_type": "code",
   "execution_count": 90,
   "id": "870ef89e",
   "metadata": {},
   "outputs": [
    {
     "data": {
      "text/plain": [
       "{'title': 'Groundhog Day',\n",
       " 'url': 'https://www.imdb.com/title/tt0107048/',\n",
       " 'duration': '1H41M',\n",
       " 'rating': 8,\n",
       " 'genres': ['Comedy', 'Drama', 'Fantasy'],\n",
       " 'date': '1993-04-29',\n",
       " 'directors': ['Harold Ramis'],\n",
       " 'stars': ['Bill Murray', 'Andie MacDowell', 'Chris Elliott'],\n",
       " 'synopsis': 'On February 1, self-centered and sour TV meteorologist Phil Connors (Bill Murray), news producer Rita Hanson (Andie MacDowell) and cameraman Larry (Chris Elliott) from fictional Pittsburgh television station WPBH-TV9 travel to Punxsutawney, Pennsylvania, to cover the annual Groundhog Day festivities with Punxsutawney Phil, the Groundhog. Having grown tired of this assignment, Phil begrudgingly gives his Groundhog Day report the next day (February 2) during the festival and parade.After the celebration concludes, a blizzard develops that Connors had predicted would miss them, closing the roads and shutting down long-distance phone services, forcing the team to return to Punxsutawney. However, Connors awakens the next morning to find it is February 2 again, and his day unfolds in almost exactly the same way. Connors can change his behavior, but other people do and say the same things they did and said the previous day, unless Connors changes something. He is aware of the repetition, but everyone else seems to be living February 2 for the first time. This recursion repeats the following morning and the one after that, and over and over again. For Connors, Groundhog Day begins each morning at 6:00 A.M., when he wakes up in his room in a Victorian bed and breakfast. His clock radio is always playing the same song, \"I Got You Babe\" by Sonny & Cher. His memories of the \"previous\" day are intact, but he is trapped in a seemingly endless time loop, repeating the same day in the same small town.After briefly trying to rationalize his situation, and then thinking he is insane, Connors takes advantage of learning the day\\'s events and the information he is able to gather about the town\\'s inhabitants, and finds that his actions have no long-term consequences for himself. He revels in this situation for a time: seducing beautiful women, stealing money, even driving drunk and experiencing a police chase. However, his attempts to seduce his producer, Rita, are met with repeated failures. He begins to tire of, and then dread, his existence, starting the day by smashing the alarm clock and professing the inanity of Groundhog Day as a holiday in his newscast. In a vain attempt to break the cycle, he kidnaps Phil the Groundhog. After a police pursuit, Connors drives a stolen truck into a quarry, causing both man and rodent to die in a fiery explosion; but the loop does not stop. He commits suicide several more times. He electrocutes himself, lets a truck hit him on the road, and jumps from a tall building (other attempts are alluded to) but mere death cannot stop the day from repeating. After he dies, he simply wakes up listening to Sonny & Cher in the same bed, on the same day, over and over again.He initially tries to seduce Rita by learning as much as he can on a daily basis. First he asks what she wants in a man: someone who is humble, kind, generous, courageous and sensitive; someone who likes children; someone who loves his mother and plays a musical instrument. He learns what she likes (rocky road ice cream, sweet vermouth, French poetry) and what she doesn\\'t like (white chocolate) and pretends to share her tastes. This also fails consistently; in scene after scene, Rita slaps him before the night is over. However, he is able to befriend her in a more sincere fashion. He tells her of his circumstances -- how he is reliving the day over and over again -- and manages to convince her of the truth with his extensive knowledge of events to come, the lives of the Punxsutawney townspeople, and Rita herself.He opens his heart to Rita, and her advice helps him to gradually find a goal for his trapped life: as a benefactor to others. He cannot, in a single day, bring others to fulfill his needs but he can achieve self-improvement by educating himself on a daily basis. After seeing an elderly homeless man die, Connors vows that no one will die on \"his\" day and performs many heroic services each and every repeating day, including performing the Heimlich maneuver on a choking man and saving a little boy who falls from a tree. However, he becomes despondent at being unable to save the homeless man, despite trying to get him medical care. When he demands to see the man\\'s medical chart, a nurse tells him \"sometimes people just die.\" Connors replies \"Not today,\" but he never manages to prevent it.Though the film does not specify the number of repetitions, there is enough time for Connors to learn many complex skills, such as how to play jazz piano, speak French, sculpt ice, and memorize the life story of almost everyone in town. He also masters the art of flipping playing cards into an upturned hat, which he offhandedly suggests takes six months.(According toDanny Rubin, who shares screenwriting credit with the director, the intent in the original script was for the time-frame of Connors\\' repeating days to be ambiguous, but longer than a single lifetime. The studio objected to this, asking that it be reduced to two weeks. DirectorHarold Ramistried to leave the time-frame loop ambiguous as how many times Connors relives February 2, but it is strongly speculated by Connors (and the viewers) to be at least 10 years.)Eventually, Phil sees his own shadow, so to speak, and changes from an inconsiderate, callous egocentric into a thoughtful, kindhearted philanthropist, refining his understanding of human decency, which, in return, makes him an appreciated and beloved man in the town. Phil is able to befriend almost everyone he meets during the day, using his experiences to save lives and help the townspeople. In the process, he gets closer to Rita. He crafts a report on the Groundhog Day celebration so eloquent that all the other stations turn their microphones to him. After the big Groundhog Day evening dance, Rita and Phil retire together to Phil\\'s room. They believe that if Rita is there, the cycle may be interrupted. He wakes the next morning in bed with Rita (they are both still fully clothed) and finds the time loop is broken; it is now February 3. Phil is a different person than he was on February 1 and, after going outside, Phil and Rita talk about living in Punxsutawney together. Connors suggests: \"We\\'ll rent to start.\"The closing song is \"Almost Like Being in Love\" from Brigadoon, a musical which also dealt with a village trapped in time.'}"
      ]
     },
     "execution_count": 90,
     "metadata": {},
     "output_type": "execute_result"
    }
   ],
   "source": [
    "movie"
   ]
  },
  {
   "cell_type": "code",
   "execution_count": null,
   "id": "cf58d7c0",
   "metadata": {},
   "outputs": [],
   "source": [
    "def get_movies_with_some_details() -> list:\n",
    "    data = []\n",
    "    for start in range(1, 250, 25):\n",
    "        url = f\"{BASE_URL}/search/title/?groups=top_250&sort=user_rating&count=25&start={start}\"\n",
    "        response = requests.get(url, headers=headers)\n",
    "        soup = BeautifulSoup(response.text, \"html.parser\")\n",
    "        rows = soup.select(\"li.ipc-metadata-list-summary-item\")\n",
    "        for row in rows:\n",
    "            title = row.select_one(\"h3.ipc-title__text\").get_text(strip=True).split(\". \")[-1]\n",
    "            link = row.select_one(\"a.ipc-title-link-wrapper\")[\"href\"].split(\"?\")[0]\n",
    "            url = BASE_URL + link\n",
    "            meta = row.select(\"span.dli-title-metadata-item\")\n",
    "            year = meta[0].get_text(strip=True)\n",
    "            runtime = meta[1].get_text(strip=True)\n",
    "            rating = row.select_one(\"span.ipc-rating-star--rating\").get_text(strip=True)\n",
    "            data.append({\n",
    "                \"title\": title,\n",
    "                \"url\": url,\n",
    "                \"year\": year,\n",
    "                \"runtime\": runtime,\n",
    "                \"rating\": rating\n",
    "            })\n",
    "    return data\n",
    "\n",
    "\n",
    "# def get_movies_with_some_details():\n",
    "#     data = []\n",
    "#     for start in range(1, 251, 50):  \n",
    "#         url = f\"{BASE_URL}/search/title/?groups=top_250&sort=user_rating&count=50&start={start}\"\n",
    "#         response = requests.get(url, headers=headers)\n",
    "#         soup = BeautifulSoup(response.text, \"html.parser\")\n",
    "\n",
    "#         for row in soup.select(\"div.lister-item-content\"):\n",
    "#             title_tag = row.select_one(\"h3.lister-item-header a\")\n",
    "#             title = title_tag.get_text(strip=True)\n",
    "#             movie_url = BASE_URL + title_tag[\"href\"].split(\"?\")[0]\n",
    "\n",
    "#             year = row.select_one(\"span.lister-item-year\")\n",
    "#             year = year.get_text(strip=True) if year else None\n",
    "\n",
    "#             rating = row.select_one(\"div.inline-block.ratings-imdb-rating strong\")\n",
    "#             rating = rating.get_text(strip=True) if rating else None\n",
    "\n",
    "#             data.append({\n",
    "#                 \"title\": title,\n",
    "#                 \"url\": movie_url,\n",
    "#                 \"year\": year,\n",
    "#                 \"rating\": rating\n",
    "#             })\n",
    "#     return data"
   ]
  },
  {
   "cell_type": "code",
   "execution_count": null,
   "id": "1a84c534",
   "metadata": {},
   "outputs": [],
   "source": [
    "data = get_movies_with_some_details()"
   ]
  },
  {
   "cell_type": "code",
   "execution_count": 16,
   "id": "bf003d16",
   "metadata": {},
   "outputs": [
    {
     "data": {
      "text/plain": [
       "0"
      ]
     },
     "execution_count": 16,
     "metadata": {},
     "output_type": "execute_result"
    }
   ],
   "source": [
    "len(data)"
   ]
  },
  {
   "cell_type": "code",
   "execution_count": 17,
   "id": "b465c225",
   "metadata": {},
   "outputs": [
    {
     "data": {
      "text/plain": [
       "0"
      ]
     },
     "execution_count": 17,
     "metadata": {},
     "output_type": "execute_result"
    }
   ],
   "source": [
    "len(set([v[\"title\"] for v in data]))"
   ]
  },
  {
   "cell_type": "code",
   "execution_count": null,
   "id": "f742bee5",
   "metadata": {},
   "outputs": [],
   "source": [
    "def get_further_details(url: str) -> list:\n",
    "    response = requests.get(url, headers=headers)\n",
    "    soup = BeautifulSoup(response.text, \"html.parser\")\n",
    "    \n",
    "    # Get genres\n",
    "    genres_section = soup.select(\"div.ipc-chip-list--nowrap span.ipc-chip__text\")\n",
    "    genres = []\n",
    "    for genre in genres_section:\n",
    "        genres.append(genre.get_text(strip=True))\n",
    "    \n",
    "    directors, stars = [], []\n",
    "    # Get director\n",
    "    section1 = soup.select(\"li.ipc-metadata-list__item--align-end\")[0]\n",
    "    for director in section1.select(\"a\"):\n",
    "        directors.append(director.get_text(strip=True))\n",
    "    # Get stars\n",
    "    section2 = soup.select(\"li.ipc-metadata-list__item--align-end\")[2]\n",
    "    for star in section2.select(\"a\"):\n",
    "        star = star.get_text(strip=True)\n",
    "        if \"Stars\" not in star and star != \"\":\n",
    "            stars.append(star)\n",
    "\n",
    "    return genres, directors, stars\n",
    "\n",
    "\n",
    "def get_synopsis(url: str) -> str:\n",
    "    response = requests.get(url + \"plotsummary/\", headers=headers)\n",
    "    soup = BeautifulSoup(response.text, \"html.parser\")\n",
    "    synopsis = soup.select(\"div.ipc-html-content-inner-div\")[-1].get_text(strip=True)\n",
    "    \n",
    "    return synopsis\n"
   ]
  },
  {
   "cell_type": "code",
   "execution_count": null,
   "id": "08f54570",
   "metadata": {},
   "outputs": [],
   "source": [
    "for index, movie in enumerate(data):\n",
    "    url = movie[\"url\"]\n",
    "    synopsis = get_synopsis(url=url)\n",
    "    genres, directors, stars = get_further_details(url=url)\n",
    "    data[index][\"genres\"] = genres\n",
    "    data[index][\"directors\"] = directors\n",
    "    data[index][\"stars\"] = stars\n",
    "    data[index][\"synopsis\"] = synopsis"
   ]
  },
  {
   "cell_type": "code",
   "execution_count": 257,
   "id": "54b98649",
   "metadata": {},
   "outputs": [],
   "source": [
    "import json\n",
    "\n",
    "with open(\"data.json\", \"w\") as f:\n",
    "    json.dump(data, f)"
   ]
  },
  {
   "cell_type": "code",
   "execution_count": 264,
   "id": "39db0763",
   "metadata": {},
   "outputs": [
    {
     "data": {
      "text/plain": [
       "25"
      ]
     },
     "execution_count": 264,
     "metadata": {},
     "output_type": "execute_result"
    }
   ],
   "source": [
    "import pandas as pd\n",
    "\n",
    "pd.DataFrame(data).title.nunique()"
   ]
  },
  {
   "cell_type": "code",
   "execution_count": null,
   "id": "faa971c2",
   "metadata": {},
   "outputs": [],
   "source": []
  }
 ],
 "metadata": {
  "kernelspec": {
   "display_name": "llm",
   "language": "python",
   "name": "python3"
  },
  "language_info": {
   "codemirror_mode": {
    "name": "ipython",
    "version": 3
   },
   "file_extension": ".py",
   "mimetype": "text/x-python",
   "name": "python",
   "nbconvert_exporter": "python",
   "pygments_lexer": "ipython3",
   "version": "3.12.3"
  }
 },
 "nbformat": 4,
 "nbformat_minor": 5
}
